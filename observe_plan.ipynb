{
 "cells": [
  {
   "cell_type": "code",
   "execution_count": 1,
   "metadata": {},
   "outputs": [
    {
     "name": "stderr",
     "output_type": "stream",
     "text": [
      "WARNING: AstropyDeprecationWarning: astropy.extern.six will be removed in 4.0, use the six module directly if it is still needed [astropy.extern.six]\n",
      "WARNING: OldEarthOrientationDataWarning: Your version of the IERS Bulletin A is 21.4 days old. For best precision (on the order of arcseconds), you must download an up-to-date IERS Bulletin A table. To do so, run:\n",
      "\n",
      ">>> from astroplan import download_IERS_A\n",
      ">>> download_IERS_A()\n",
      " [astroplan.utils]\n"
     ]
    }
   ],
   "source": [
    "from urllib import request\n",
    "from bs4 import BeautifulSoup\n",
    "import urllib\n",
    "import re\n",
    "import pandas as pd\n",
    "from ztfquery import marshal\n",
    "import numpy as np\n",
    "import csv\n",
    "from astropy.time import Time\n",
    "import datetime\n",
    "from datetime import timedelta \n",
    "from matplotlib import pyplot as plt\n",
    "from astroplan import Observer, FixedTarget\n",
    "from astropy.coordinates import SkyCoord,EarthLocation\n",
    "import astropy.units as u\n",
    "from astroplan.plots import plot_airmass\n",
    "from astroplan import AirmassConstraint, is_event_observable, AtNightConstraint\n",
    "import time\n",
    "import os"
   ]
  },
  {
   "cell_type": "code",
   "execution_count": 2,
   "metadata": {},
   "outputs": [],
   "source": [
    "def estimate_error_r(time,mag,err,now):\n",
    "    mags_now=[]\n",
    "    for n in range(1,1000):\n",
    "        mgr1fit_temp=err * np.random.randn(len(err)) + mag\n",
    "        rfit,cr = np.polyfit(jdr1,mgr1fit_temp,1,cov=True,w=mgr1_err)        \n",
    "        p=np.poly1d(rfit) \n",
    "        mags_now.append(p(now)) \n",
    "    return np.mean(mags_now),np.std(mags_now) \n",
    "\n",
    "def estimate_error_g(time,mag,err,now):\n",
    "    mags_now=[]\n",
    "    for n in range(1,1000):\n",
    "        mgg1fit_temp=err * np.random.randn(len(err)) + mag\n",
    "        gfit,cg = np.polyfit(jdg1,mgg1fit_temp,1,cov=True,w=mgg1_err)\n",
    "        p=np.poly1d(gfit)\n",
    "        mags_now.append(p(now))\n",
    "    return np.mean(mags_now),np.std(mags_now)"
   ]
  },
  {
   "cell_type": "markdown",
   "metadata": {},
   "source": [
    "  # Get an object list from url\n",
    "  You may change the acount and url given below. The url below is for type Ib,Ic and IIb SN. Here we only select those whose redshift is smaller than 0.05."
   ]
  },
  {
   "cell_type": "code",
   "execution_count": 3,
   "metadata": {},
   "outputs": [],
   "source": [
    "\n",
    "username = ''\n",
    "password = ''\n",
    "url='http://skipper.caltech.edu:8080/cgi-bin/growth/list_sources.cgi?search=all+targets&candtypes=AnyType&finalcandtypes=AnyType&classes=Ic&classes=Ic-BL&classes=Ic-BL%3F&classes=IIb&classes=IIbn%3F&classes=SN+Ib&classes=SN+Ib%3F&classes=SN+Ib%2Fc&classes=SN+Ib%2Fc%3F&classes=SNIb%2FIIb%3F&classes=SN+Ibn&classes=SN+Ibn%3F&classes=SNIc&classes=SN+Ic&classes=SN+Ic%3F&classes=SNIc%3F&classes=SN+Ic-BL&classes=SN+Ic-broad%3F&classes=SN+Ic-norm&classes=SN+IIb&classes=SN+IIb%3F&sortby=datesaved&reverse=1&nshow=100&datetype=Saved&fromyear=2000&frommonth=Jul&fromday=27&toyear=2019&tomonth=Aug&today=27&fromra=0.0&tora=360.0&fromdec=-90.0&todec=90.0&runs=-1&fromrunpriority=0&ogroups=-1&fupprogram=-1&frompriority=0&commentlogic=&comment=&postedby=&tabletype=starlist&plotlc=yes&doit=yes'\n",
    "\n",
    "passman = urllib.request.HTTPPasswordMgrWithDefaultRealm()\n",
    "passman.add_password(None, url, username, password)\n",
    "handler = urllib.request.HTTPBasicAuthHandler(passman)\n",
    "opener = urllib.request.build_opener(handler)\n",
    "x = opener.open(url)\n",
    "soup = BeautifulSoup(x)\n",
    "strtable = str(soup)\n",
    "objraw = re.findall ('ZTF\\d\\d\\D{0,7}', strtable)"
   ]
  },
  {
   "cell_type": "code",
   "execution_count": 4,
   "metadata": {},
   "outputs": [
    {
     "name": "stdout",
     "output_type": "stream",
     "text": [
      "INFO: I am downloading target_sources metadata, it may take some time (~1min). \n",
      "You may fasten this part by first doing self.load_target_sources(YOUR_PROGRAM)\n"
     ]
    }
   ],
   "source": [
    "m = marshal.MarshalAccess()\n",
    "data = m.get_target_data(objraw)\n",
    "datalist = data.reset_index()\n",
    "rs = m.get_target_redshift(objraw)\n",
    "rslist = rs.reset_index()\n",
    "nlist = []\n",
    "rlist = []\n",
    "clist = []\n",
    "for i in rslist.index:\n",
    "    if rslist.redshift[i] != None and rslist.redshift[i] < str(0.05):\n",
    "        nlist.append(datalist.name[i])\n",
    "        clist.append(datalist.classification[i])\n",
    "        rlist.append(rslist.redshift[i])\n",
    "\n",
    "d = {'name': nlist,'classification':clist,'redshift': rlist}\n",
    "df = pd.DataFrame(data=d)"
   ]
  },
  {
   "cell_type": "code",
   "execution_count": 5,
   "metadata": {},
   "outputs": [],
   "source": [
    "#GET JDNOW\n",
    "now = datetime.datetime.now()\n",
    "jdnow = Time(now)"
   ]
  },
  {
   "cell_type": "markdown",
   "metadata": {},
   "source": [
    "# Get discovery date and time of latest spectra\n",
    "Here we select those who are older than 150 days."
   ]
  },
  {
   "cell_type": "code",
   "execution_count": 6,
   "metadata": {},
   "outputs": [
    {
     "name": "stderr",
     "output_type": "stream",
     "text": [
      "/Users/yuhsiao/anaconda3/lib/python3.7/site-packages/pandas/core/ops.py:1649: FutureWarning: elementwise comparison failed; returning scalar instead, but in the future will perform elementwise comparison\n",
      "  result = method(y)\n"
     ]
    }
   ],
   "source": [
    "obj = df['name']\n",
    "\n",
    "ddlist = []\n",
    "deltatlist1 = []\n",
    "lslist= []\n",
    "deltatlist2 =[]\n",
    "\n",
    "for x in obj:\n",
    "    try:\n",
    "        marshal.download_lightcurve(str(x),overwrite=True)\n",
    "        lc_dict = marshal.get_local_lightcurves(str(x))\n",
    "        lcjd = lc_dict.jdobs[lc_dict.mag != 99.00].reset_index()\n",
    "        lcd0 = lc_dict.date[lc_dict.mag!=99.00].reset_index()\n",
    "        ddlist.append(lcd0.date[0]) #discovery date\n",
    "        t1 = round(jdnow.jd-lcjd.jdobs[0],2)\n",
    "        deltatlist1.append(t1)\n",
    "    except Exception:\n",
    "        ddlist.append(\"cannot access\")\n",
    "        deltatlist1.append(\"cannot access\")\n",
    "    try:\n",
    "        marshal.download_spectra(str(x),overwrite=True)\n",
    "        spectra = marshal.get_local_spectra(str(x))\n",
    "        specdata = list(spectra)\n",
    "        specdata.sort()\n",
    "        spdate = specdata[-1]       \n",
    "        dstrip = re.search('\\d{7,8}',spdate)\n",
    "        time_k = time.mktime(time.strptime(dstrip.group(),'%Y%m%d'))\n",
    "        time_kk = time.localtime(time_k)\n",
    "        t_form = time.strftime('%Y %b %d',time_kk)\n",
    "        lslist.append(t_form)\n",
    "        t_form_u = time.strftime('%Y-%m-%d',time_kk)\n",
    "        jdspec = Time(t_form_u)\n",
    "        t2= round(jdspec.jd-lcjd.jdobs[0],2)\n",
    "        deltatlist2.append(t2)\n",
    "    except Exception:\n",
    "        lslist.append(\"cannot access\")\n",
    "        deltatlist2.append(\"cannot access\")\n",
    "                \n",
    "df['discovery date']=ddlist\n",
    "df['age/days']=deltatlist1\n",
    "df['date of latest spectra']=lslist\n",
    "df['time interval(latest spectra to discovery)/days']=deltatlist2\n",
    "\n",
    "df_acc=df[df['age/days']!='cannot access']\n",
    "df_new=df_acc[df_acc['age/days']>150].reset_index(drop=True)"
   ]
  },
  {
   "cell_type": "markdown",
   "metadata": {},
   "source": [
    "# Estimate current magnitude (r & g)"
   ]
  },
  {
   "cell_type": "code",
   "execution_count": 7,
   "metadata": {
    "scrolled": true
   },
   "outputs": [],
   "source": [
    "rflist=[]\n",
    "rulist=[]\n",
    "gflist=[]\n",
    "gulist=[]   \n",
    "\n",
    "obj2=df_new['name']\n",
    "\n",
    "for x in obj2:\n",
    "    try:\n",
    "        marshal.download_lightcurve(str(x),overwrite=True)\n",
    "        lc_dict = marshal.get_local_lightcurves(str(x))   \n",
    "        jdlis = lc_dict.jdobs[lc_dict.mag != 99.00]\n",
    "        maglis = lc_dict.mag[lc_dict.mag!=99.00]\n",
    "        emaglis = lc_dict.emag[lc_dict.mag!=99.00]\n",
    "\n",
    "        jdr_old = jdlis[lc_dict['filter']=='r'].reset_index()\n",
    "        jdr = jdr_old.jdobs\n",
    "        jdg_old = jdlis[lc_dict['filter']=='g'].reset_index()\n",
    "        jdg = jdg_old.jdobs\n",
    "        mgr_old = maglis[lc_dict['filter']=='r'].reset_index()\n",
    "        mgr = mgr_old.mag\n",
    "        mgg_old = maglis[lc_dict['filter']=='g'].reset_index()\n",
    "        mgg = mgg_old.mag\n",
    "        mgr_err_old = emaglis[lc_dict['filter']=='r'].reset_index()\n",
    "        mgr_err = mgr_err_old.emag\n",
    "        mgg_err_old = emaglis[lc_dict['filter']=='g'].reset_index()\n",
    "        mgg_err = mgg_err_old.emag   \n",
    "            \n",
    "        if jdr.values.size == 0:\n",
    "            rflist.append(\"Cannot fit\")\n",
    "            rulist.append(\"Cannot fit\")\n",
    "        elif jdr.values.size > 0:\n",
    "            dis_r_jd = float(jdr.values[0])\n",
    "            late_r_jd = float(jdr.values[-1])\n",
    "            jdr1 = jdr[jdr>= late_r_jd-50]\n",
    "            mgr1 = mgr[jdr>= late_r_jd-50]\n",
    "            mgr1_err = mgr_err[jdr >= late_r_jd-50]\n",
    "            if jdr1.values.size <3:\n",
    "                rflist.append(\"cannot fit\")\n",
    "                rulist.append(\"cannot fit\")\n",
    "            elif jdr1.values.size >2:\n",
    "                rfit,cr = np.polyfit(jdr1,mgr1,1,cov=True,w=mgr1_err)     \n",
    "                p=np.poly1d(rfit)\n",
    "                magnow,err=estimate_error_r(jdr1,mgr1,mgr1_err,jdnow.jd)\n",
    "                rflist.append(round(magnow,2))\n",
    "                rulist.append(round(err,2))\n",
    "\n",
    "        if jdg.values.size == 0:\n",
    "            gflist.append(\"Cannot fit\")\n",
    "            gulist.append(\"Cannot fit\")\n",
    "        elif jdg.values.size > 0:\n",
    "            dis_g_jd = float(jdg.values[0])\n",
    "            late_g_jd = float(jdg.values[-1])\n",
    "            jdg1 = jdg[jdg>= late_g_jd-50]\n",
    "            mgg1 = mgg[jdg>= late_g_jd-50]\n",
    "            mgg1_err = mgg_err[jdg>= late_g_jd-50]\n",
    "                \n",
    "            if jdg1.values.size <3:\n",
    "                gflist.append(\"cannot fit\")\n",
    "                gulist.append(\"cannot fit\")\n",
    "            elif jdg1.values.size >2:\n",
    "                gfit,cg = np.polyfit(jdg1,mgg1,1,cov=True,w=mgg1_err)\n",
    "                p=np.poly1d(gfit)\n",
    "                magnow,err=estimate_error_g(jdg1,mgg1,mgg1_err,jdnow.jd)\n",
    "                gflist.append(round(magnow,2))\n",
    "                gulist.append(round(err,2))\n",
    "    except Exception:\n",
    "        rflist.append(\"cannot access\")\n",
    "        rulist.append(\"cannot access\")\n",
    "        gflist.append(\"cannot access\")\n",
    "        gulist.append(\"cannot access\")\n",
    "            \n",
    "df_new[\"mag estimated (r)\"]= rflist\n",
    "df_new[\"mag uncertainty (r)\"]=rulist\n",
    "df_new[\"mag estimated (g)\"]=gflist\n",
    "df_new[\"mag uncertainty (g)\"]=gulist\n"
   ]
  },
  {
   "cell_type": "markdown",
   "metadata": {},
   "source": [
    "# Caculate observable time\n",
    "Here we select those who are observable for more than 15 minutes."
   ]
  },
  {
   "cell_type": "code",
   "execution_count": 8,
   "metadata": {},
   "outputs": [],
   "source": [
    "obtlist=[]\n",
    "obdtlist=[]\n",
    "\n",
    "observe_time = jdnow + np.linspace(0, 24, 100)*u.hour\n",
    "keck = Observer.at_site(\"Keck Observatory\",timezone=\"US/Hawaii\")\n",
    "#m = marshal.MarshalAccess()\n",
    "data = m.get_target_data(obj2)\n",
    "datalist = data.reset_index(drop=True)\n",
    "coord0 = m.get_target_coordinates(obj2)\n",
    "colist = coord0.reset_index(drop=True)\n",
    "\n",
    "for i in colist.index:\n",
    "    name = datalist[\"name\"][i]\n",
    "    ra = colist[\"ra\"][i]\n",
    "    dec = colist[\"dec\"][i]    \n",
    "    coord = SkyCoord(ra= ra*u.deg,dec= dec*u.deg)\n",
    "    target = FixedTarget(coord= coord, name=name)  \n",
    "    constraints = [AirmassConstraint(2),AtNightConstraint.twilight_civil()]\n",
    "    isobservable = is_event_observable(constraints,keck,target,times=observe_time)\n",
    "    isob = isobservable.flatten()\n",
    "    obtime0 = observe_time.to_datetime()\n",
    "    obtime = obtime0[isob==True]\n",
    "    obtimeF = obtime0[isob==False]\n",
    "    \n",
    "    if isob[isob==True].size==0:\n",
    "        obtlist.append(\"cannot be observed\")\n",
    "        obdtlist.append(\"cannot be observed\")\n",
    "    elif isob[0]==False:\n",
    "        obtrange=[obtime[0].strftime(\"%Y-%m-%d %H:%M:%S\") ,obtime[-1].strftime(\"%Y-%m-%d %H:%M:%S\")]\n",
    "        obtlist.append(obtrange)\n",
    "        deltat=obtime[-1]-obtime[0]\n",
    "        \n",
    "        minutes_total, seconds = divmod(deltat.seconds, 60)\n",
    "        hours, minutes = divmod(minutes_total, 60) \n",
    "        deltat_str = '%d:%02d:%02d' % (hours, minutes, seconds)\n",
    "        t = time.strptime(deltat_str,\"%H:%M:%S\") \n",
    "        deltat_format = timedelta(hours=t.tm_hour, minutes=t.tm_min, seconds=t.tm_sec) \n",
    "        obdtlist.append(deltat_format)\n",
    "    \n",
    "    elif isob[0]==True:\n",
    "        obtrange1=[obtime0[0].strftime(\"%Y-%m-%d %H:%M:%S\") ,obtimeF[0].strftime(\"%Y-%m-%d %H:%M:%S\")] \n",
    "        obtrange2=[obtimeF[-1].strftime(\"%Y-%m-%d %H:%M:%S\") ,obtime0[-1].strftime(\"%Y-%m-%d %H:%M:%S\")] \n",
    "        obtrange3=[obtrange1,obtrange2]\n",
    "        obtlist.append(obtrange3)\n",
    "        deltat1=obtimeF[0]-obtime0[0]\n",
    "        deltat2=obtime0[-1]-obtimeF[-1]\n",
    "        deltat3=deltat1+deltat2\n",
    "        \n",
    "        min_total, sec = divmod(deltat3.seconds, 60)\n",
    "        hour, minu = divmod(min_total, 60) \n",
    "        deltat3_str = '%d:%02d:%02d' % (hour, minu, sec)\n",
    "        t3 = time.strptime(deltat3_str,\"%H:%M:%S\") \n",
    "        deltat3_format = timedelta(hours=t3.tm_hour, minutes=t3.tm_min, seconds=t3.tm_sec) \n",
    "        obdtlist.append(deltat3_format)\n",
    "\n",
    "df_new[\"observable time\"]= obtlist\n",
    "df_new[\"observable hours\"]=obdtlist\n",
    "\n",
    "df_ob=df_new[df_new[\"observable hours\"] != 'cannot be observed' ]\n",
    "df_ob_new=df_ob[df_ob[\"observable hours\"]>timedelta(minutes=15)].reset_index(drop=True)\n",
    "df_ob_new.to_csv('ob_plan.csv')     "
   ]
  }
 ],
 "metadata": {
  "kernelspec": {
   "display_name": "Python 3",
   "language": "python",
   "name": "python3"
  },
  "language_info": {
   "codemirror_mode": {
    "name": "ipython",
    "version": 3
   },
   "file_extension": ".py",
   "mimetype": "text/x-python",
   "name": "python",
   "nbconvert_exporter": "python",
   "pygments_lexer": "ipython3",
   "version": "3.7.3"
  }
 },
 "nbformat": 4,
 "nbformat_minor": 2
}
